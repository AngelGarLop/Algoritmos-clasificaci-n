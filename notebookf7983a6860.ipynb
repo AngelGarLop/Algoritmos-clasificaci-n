{
 "cells": [
  {
   "cell_type": "code",
   "execution_count": 179,
   "metadata": {
    "execution": {
     "iopub.execute_input": "2025-03-04T11:25:22.264983Z",
     "iopub.status.busy": "2025-03-04T11:25:22.264705Z",
     "iopub.status.idle": "2025-03-04T11:25:22.269657Z",
     "shell.execute_reply": "2025-03-04T11:25:22.268683Z",
     "shell.execute_reply.started": "2025-03-04T11:25:22.264963Z"
    },
    "trusted": true
   },
   "outputs": [],
   "source": [
    "import pandas as pd\n",
    "import numpy as np\n",
    "import matplotlib.pyplot as plt\n",
    "import seaborn as sns\n",
    "\n",
    "from sklearn.model_selection import train_test_split, GridSearchCV\n",
    "from sklearn.preprocessing import StandardScaler, LabelEncoder\n",
    "from sklearn.metrics import accuracy_score, precision_score, recall_score, f1_score, confusion_matrix, log_loss, matthews_corrcoef, roc_auc_score\n",
    "\n",
    "# Modelos de clasificación\n",
    "from sklearn.svm import SVC\n",
    "from sklearn.linear_model import LogisticRegression\n",
    "from sklearn.tree import DecisionTreeClassifier\n",
    "from sklearn.ensemble import RandomForestClassifier\n",
    "from sklearn.neighbors import KNeighborsClassifier\n",
    "import kagglehub\n"
   ]
  },
  {
   "cell_type": "markdown",
   "metadata": {},
   "source": [
    "# SVM(Support Vector Machine)"
   ]
  },
  {
   "cell_type": "markdown",
   "metadata": {},
   "source": [
    "## Explicación del Algoritmo"
   ]
  },
  {
   "cell_type": "markdown",
   "metadata": {},
   "source": [
    "## Aplicación del algoritmo"
   ]
  },
  {
   "cell_type": "code",
   "execution_count": 180,
   "metadata": {},
   "outputs": [],
   "source": [
    "RANDOM_STATE = 6"
   ]
  },
  {
   "cell_type": "markdown",
   "metadata": {},
   "source": [
    "### Vino"
   ]
  },
  {
   "cell_type": "code",
   "execution_count": 181,
   "metadata": {
    "execution": {
     "iopub.execute_input": "2025-03-04T11:25:22.271055Z",
     "iopub.status.busy": "2025-03-04T11:25:22.270824Z",
     "iopub.status.idle": "2025-03-04T11:25:22.288872Z",
     "shell.execute_reply": "2025-03-04T11:25:22.288099Z",
     "shell.execute_reply.started": "2025-03-04T11:25:22.271035Z"
    },
    "trusted": true
   },
   "outputs": [],
   "source": [
    "# Cargar dataset\n",
    "wine_quality_dataset_path = kagglehub.dataset_download('yasserh/wine-quality-dataset')\n",
    "df_vino = pd.read_csv(wine_quality_dataset_path+'/WineQT.csv')"
   ]
  },
  {
   "cell_type": "code",
   "execution_count": 182,
   "metadata": {
    "execution": {
     "iopub.execute_input": "2025-03-04T11:25:22.290212Z",
     "iopub.status.busy": "2025-03-04T11:25:22.289928Z",
     "iopub.status.idle": "2025-03-04T11:25:22.304191Z",
     "shell.execute_reply": "2025-03-04T11:25:22.303319Z",
     "shell.execute_reply.started": "2025-03-04T11:25:22.290193Z"
    },
    "trusted": true
   },
   "outputs": [
    {
     "data": {
      "text/html": [
       "<div>\n",
       "<style scoped>\n",
       "    .dataframe tbody tr th:only-of-type {\n",
       "        vertical-align: middle;\n",
       "    }\n",
       "\n",
       "    .dataframe tbody tr th {\n",
       "        vertical-align: top;\n",
       "    }\n",
       "\n",
       "    .dataframe thead th {\n",
       "        text-align: right;\n",
       "    }\n",
       "</style>\n",
       "<table border=\"1\" class=\"dataframe\">\n",
       "  <thead>\n",
       "    <tr style=\"text-align: right;\">\n",
       "      <th></th>\n",
       "      <th>fixed acidity</th>\n",
       "      <th>volatile acidity</th>\n",
       "      <th>citric acid</th>\n",
       "      <th>residual sugar</th>\n",
       "      <th>chlorides</th>\n",
       "      <th>free sulfur dioxide</th>\n",
       "      <th>total sulfur dioxide</th>\n",
       "      <th>density</th>\n",
       "      <th>pH</th>\n",
       "      <th>sulphates</th>\n",
       "      <th>alcohol</th>\n",
       "      <th>quality</th>\n",
       "      <th>Id</th>\n",
       "    </tr>\n",
       "  </thead>\n",
       "  <tbody>\n",
       "    <tr>\n",
       "      <th>0</th>\n",
       "      <td>7.4</td>\n",
       "      <td>0.70</td>\n",
       "      <td>0.00</td>\n",
       "      <td>1.9</td>\n",
       "      <td>0.076</td>\n",
       "      <td>11.0</td>\n",
       "      <td>34.0</td>\n",
       "      <td>0.9978</td>\n",
       "      <td>3.51</td>\n",
       "      <td>0.56</td>\n",
       "      <td>9.4</td>\n",
       "      <td>5</td>\n",
       "      <td>0</td>\n",
       "    </tr>\n",
       "    <tr>\n",
       "      <th>1</th>\n",
       "      <td>7.8</td>\n",
       "      <td>0.88</td>\n",
       "      <td>0.00</td>\n",
       "      <td>2.6</td>\n",
       "      <td>0.098</td>\n",
       "      <td>25.0</td>\n",
       "      <td>67.0</td>\n",
       "      <td>0.9968</td>\n",
       "      <td>3.20</td>\n",
       "      <td>0.68</td>\n",
       "      <td>9.8</td>\n",
       "      <td>5</td>\n",
       "      <td>1</td>\n",
       "    </tr>\n",
       "    <tr>\n",
       "      <th>2</th>\n",
       "      <td>7.8</td>\n",
       "      <td>0.76</td>\n",
       "      <td>0.04</td>\n",
       "      <td>2.3</td>\n",
       "      <td>0.092</td>\n",
       "      <td>15.0</td>\n",
       "      <td>54.0</td>\n",
       "      <td>0.9970</td>\n",
       "      <td>3.26</td>\n",
       "      <td>0.65</td>\n",
       "      <td>9.8</td>\n",
       "      <td>5</td>\n",
       "      <td>2</td>\n",
       "    </tr>\n",
       "    <tr>\n",
       "      <th>3</th>\n",
       "      <td>11.2</td>\n",
       "      <td>0.28</td>\n",
       "      <td>0.56</td>\n",
       "      <td>1.9</td>\n",
       "      <td>0.075</td>\n",
       "      <td>17.0</td>\n",
       "      <td>60.0</td>\n",
       "      <td>0.9980</td>\n",
       "      <td>3.16</td>\n",
       "      <td>0.58</td>\n",
       "      <td>9.8</td>\n",
       "      <td>6</td>\n",
       "      <td>3</td>\n",
       "    </tr>\n",
       "    <tr>\n",
       "      <th>4</th>\n",
       "      <td>7.4</td>\n",
       "      <td>0.70</td>\n",
       "      <td>0.00</td>\n",
       "      <td>1.9</td>\n",
       "      <td>0.076</td>\n",
       "      <td>11.0</td>\n",
       "      <td>34.0</td>\n",
       "      <td>0.9978</td>\n",
       "      <td>3.51</td>\n",
       "      <td>0.56</td>\n",
       "      <td>9.4</td>\n",
       "      <td>5</td>\n",
       "      <td>4</td>\n",
       "    </tr>\n",
       "  </tbody>\n",
       "</table>\n",
       "</div>"
      ],
      "text/plain": [
       "   fixed acidity  volatile acidity  citric acid  residual sugar  chlorides  \\\n",
       "0            7.4              0.70         0.00             1.9      0.076   \n",
       "1            7.8              0.88         0.00             2.6      0.098   \n",
       "2            7.8              0.76         0.04             2.3      0.092   \n",
       "3           11.2              0.28         0.56             1.9      0.075   \n",
       "4            7.4              0.70         0.00             1.9      0.076   \n",
       "\n",
       "   free sulfur dioxide  total sulfur dioxide  density    pH  sulphates  \\\n",
       "0                 11.0                  34.0   0.9978  3.51       0.56   \n",
       "1                 25.0                  67.0   0.9968  3.20       0.68   \n",
       "2                 15.0                  54.0   0.9970  3.26       0.65   \n",
       "3                 17.0                  60.0   0.9980  3.16       0.58   \n",
       "4                 11.0                  34.0   0.9978  3.51       0.56   \n",
       "\n",
       "   alcohol  quality  Id  \n",
       "0      9.4        5   0  \n",
       "1      9.8        5   1  \n",
       "2      9.8        5   2  \n",
       "3      9.8        6   3  \n",
       "4      9.4        5   4  "
      ]
     },
     "execution_count": 182,
     "metadata": {},
     "output_type": "execute_result"
    }
   ],
   "source": [
    "df_vino.head()"
   ]
  },
  {
   "cell_type": "code",
   "execution_count": 183,
   "metadata": {
    "execution": {
     "iopub.execute_input": "2025-03-04T11:25:22.305532Z",
     "iopub.status.busy": "2025-03-04T11:25:22.305247Z",
     "iopub.status.idle": "2025-03-04T11:25:22.315641Z",
     "shell.execute_reply": "2025-03-04T11:25:22.314953Z",
     "shell.execute_reply.started": "2025-03-04T11:25:22.305505Z"
    },
    "trusted": true
   },
   "outputs": [],
   "source": [
    "# Convertir calidad en binario (1 = buena calidad, 0 = mala calidad)\n",
    "df_vino['quality'] = df_vino['quality'].apply(lambda x: 1 if x > 5 else 0)\n",
    "\n",
    "# Separar variables\n",
    "X_vino = df_vino.drop('quality', axis=1)\n",
    "y_vino = df_vino['quality']\n",
    "\n",
    "# Dividir en entrenamiento y prueba\n",
    "X_train_vino, X_test_vino, y_train_vino, y_test_vino = train_test_split(X_vino, y_vino, test_size=0.2, random_state=6)"
   ]
  },
  {
   "cell_type": "code",
   "execution_count": 184,
   "metadata": {
    "execution": {
     "iopub.execute_input": "2025-03-04T11:25:22.316608Z",
     "iopub.status.busy": "2025-03-04T11:25:22.316351Z",
     "iopub.status.idle": "2025-03-04T11:25:22.322048Z",
     "shell.execute_reply": "2025-03-04T11:25:22.321182Z",
     "shell.execute_reply.started": "2025-03-04T11:25:22.316589Z"
    },
    "trusted": true
   },
   "outputs": [],
   "source": [
    "# 1. SVM\n",
    "svm_vino= SVC(random_state=RANDOM_STATE)"
   ]
  },
  {
   "cell_type": "code",
   "execution_count": 185,
   "metadata": {
    "execution": {
     "iopub.execute_input": "2025-03-04T11:25:22.323562Z",
     "iopub.status.busy": "2025-03-04T11:25:22.323289Z",
     "iopub.status.idle": "2025-03-04T11:25:22.332489Z",
     "shell.execute_reply": "2025-03-04T11:25:22.331791Z",
     "shell.execute_reply.started": "2025-03-04T11:25:22.323532Z"
    },
    "trusted": true
   },
   "outputs": [],
   "source": [
    "def evaluar_modelo(modelo, X_train, X_test, y_train, y_test):\n",
    "    modelo.fit(X_train, y_train)\n",
    "    y_pred = modelo.predict(X_test)\n",
    "    y_probs = modelo.decision_function(X_test)\n",
    "    \n",
    "    # Métricas\n",
    "    acc = accuracy_score(y_test, y_pred)\n",
    "    prec = precision_score(y_test, y_pred)\n",
    "    rec = recall_score(y_test, y_pred)\n",
    "    f1 = f1_score(y_test, y_pred)\n",
    "    logloss = log_loss(y_test, 1 / (1 + np.exp(-y_probs)))\n",
    "    mcc_value = matthews_corrcoef(y_test, y_pred)\n",
    "    \n",
    "    print(f\"Accuracy: {acc:.4f}\")\n",
    "    print(f\"Precision: {prec:.4f}\")\n",
    "    print(f\"Recall: {rec:.4f}\")\n",
    "    print(f\"F1-Score: {f1:.4f}\")\n",
    "    print(f\"logloss: {logloss:.4f}\")\n",
    "    print(f\"MCC: {mcc_value:.4f}\")"
   ]
  },
  {
   "cell_type": "code",
   "execution_count": 186,
   "metadata": {
    "execution": {
     "iopub.execute_input": "2025-03-04T11:25:22.333903Z",
     "iopub.status.busy": "2025-03-04T11:25:22.333604Z",
     "iopub.status.idle": "2025-03-04T11:25:22.425354Z",
     "shell.execute_reply": "2025-03-04T11:25:22.424587Z",
     "shell.execute_reply.started": "2025-03-04T11:25:22.333873Z"
    },
    "trusted": true
   },
   "outputs": [
    {
     "name": "stdout",
     "output_type": "stream",
     "text": [
      "SVM - Calidad del Vino\n",
      "Accuracy: 0.5721\n",
      "Precision: 0.5421\n",
      "Recall: 0.9035\n",
      "F1-Score: 0.6776\n",
      "logloss: 0.7151\n",
      "MCC: 0.1955\n"
     ]
    }
   ],
   "source": [
    "# 1. SVM\n",
    "print(\"SVM - Calidad del Vino\")\n",
    "evaluar_modelo(svm_vino, X_train_vino, X_test_vino, y_train_vino, y_test_vino)"
   ]
  },
  {
   "cell_type": "code",
   "execution_count": 187,
   "metadata": {
    "execution": {
     "iopub.execute_input": "2025-03-04T11:25:22.426487Z",
     "iopub.status.busy": "2025-03-04T11:25:22.426212Z",
     "iopub.status.idle": "2025-03-04T11:25:22.430154Z",
     "shell.execute_reply": "2025-03-04T11:25:22.429476Z",
     "shell.execute_reply.started": "2025-03-04T11:25:22.426459Z"
    },
    "trusted": true
   },
   "outputs": [],
   "source": [
    "def hiperparametros(mdoelo,hp,hps,X_train, X_test, y_train, y_test):\n",
    "    for i in hps:\n",
    "        print(f\"\\nSVM con {hp} = {i}\")\n",
    "        svm_model = SVC(**{hp: i})\n",
    "        evaluar_modelo(svm_model, X_train, X_test, y_train, y_test)\n"
   ]
  },
  {
   "cell_type": "code",
   "execution_count": 188,
   "metadata": {
    "execution": {
     "iopub.execute_input": "2025-03-04T11:25:22.431222Z",
     "iopub.status.busy": "2025-03-04T11:25:22.430977Z",
     "iopub.status.idle": "2025-03-04T11:25:22.590360Z",
     "shell.execute_reply": "2025-03-04T11:25:22.589805Z",
     "shell.execute_reply.started": "2025-03-04T11:25:22.431191Z"
    },
    "trusted": true
   },
   "outputs": [
    {
     "name": "stdout",
     "output_type": "stream",
     "text": [
      "\n",
      "SVM con C = 0.1\n",
      "Accuracy: 0.4978\n",
      "Precision: 0.4978\n",
      "Recall: 1.0000\n",
      "F1-Score: 0.6647\n",
      "logloss: 0.7554\n",
      "MCC: 0.0000\n",
      "\n",
      "SVM con C = 10\n",
      "Accuracy: 0.6201\n",
      "Precision: 0.5722\n",
      "Recall: 0.9386\n",
      "F1-Score: 0.7110\n",
      "logloss: 0.6760\n",
      "MCC: 0.3139\n"
     ]
    }
   ],
   "source": [
    "hiperparametros(svm_vino,'C',[0.1, 10], X_train_vino, X_test_vino, y_train_vino, y_test_vino)"
   ]
  },
  {
   "cell_type": "code",
   "execution_count": 189,
   "metadata": {
    "execution": {
     "iopub.execute_input": "2025-03-04T11:25:22.592300Z",
     "iopub.status.busy": "2025-03-04T11:25:22.592118Z",
     "iopub.status.idle": "2025-03-04T11:25:49.865475Z",
     "shell.execute_reply": "2025-03-04T11:25:49.864577Z",
     "shell.execute_reply.started": "2025-03-04T11:25:22.592284Z"
    },
    "trusted": true
   },
   "outputs": [
    {
     "name": "stdout",
     "output_type": "stream",
     "text": [
      "\n",
      "SVM con kernel = linear\n",
      "Accuracy: 0.7424\n",
      "Precision: 0.7570\n",
      "Recall: 0.7105\n",
      "F1-Score: 0.7330\n",
      "logloss: 0.5160\n",
      "MCC: 0.4855\n",
      "\n",
      "SVM con kernel = poly\n",
      "Accuracy: 0.4978\n",
      "Precision: 0.4978\n",
      "Recall: 1.0000\n",
      "F1-Score: 0.6647\n",
      "logloss: 0.8034\n",
      "MCC: 0.0000\n"
     ]
    }
   ],
   "source": [
    "hiperparametros(svm_vino,'kernel',['linear', 'poly'], X_train_vino, X_test_vino, y_train_vino, y_test_vino)"
   ]
  },
  {
   "cell_type": "code",
   "execution_count": 190,
   "metadata": {
    "execution": {
     "iopub.execute_input": "2025-03-04T11:25:49.867323Z",
     "iopub.status.busy": "2025-03-04T11:25:49.867045Z",
     "iopub.status.idle": "2025-03-04T11:25:50.037967Z",
     "shell.execute_reply": "2025-03-04T11:25:50.037292Z",
     "shell.execute_reply.started": "2025-03-04T11:25:49.867302Z"
    },
    "trusted": true
   },
   "outputs": [
    {
     "name": "stdout",
     "output_type": "stream",
     "text": [
      "\n",
      "SVM con tol = 0.1\n",
      "Accuracy: 0.5721\n",
      "Precision: 0.5421\n",
      "Recall: 0.9035\n",
      "F1-Score: 0.6776\n",
      "logloss: 0.7168\n",
      "MCC: 0.1955\n",
      "\n",
      "SVM con tol = 1e-05\n",
      "Accuracy: 0.5721\n",
      "Precision: 0.5421\n",
      "Recall: 0.9035\n",
      "F1-Score: 0.6776\n",
      "logloss: 0.7150\n",
      "MCC: 0.1955\n"
     ]
    }
   ],
   "source": [
    "hiperparametros(svm_vino,'tol',[1e-1, 1e-5], X_train_vino, X_test_vino, y_train_vino, y_test_vino)"
   ]
  },
  {
   "cell_type": "markdown",
   "metadata": {
    "execution": {
     "iopub.execute_input": "2025-03-03T16:50:37.950947Z",
     "iopub.status.busy": "2025-03-03T16:50:37.950515Z",
     "iopub.status.idle": "2025-03-03T16:50:37.955458Z",
     "shell.execute_reply": "2025-03-03T16:50:37.954238Z",
     "shell.execute_reply.started": "2025-03-03T16:50:37.950910Z"
    }
   },
   "source": [
    "### Breast cancer"
   ]
  },
  {
   "cell_type": "code",
   "execution_count": 191,
   "metadata": {
    "execution": {
     "iopub.execute_input": "2025-03-04T11:25:50.039099Z",
     "iopub.status.busy": "2025-03-04T11:25:50.038797Z",
     "iopub.status.idle": "2025-03-04T11:25:50.048948Z",
     "shell.execute_reply": "2025-03-04T11:25:50.047987Z",
     "shell.execute_reply.started": "2025-03-04T11:25:50.039076Z"
    },
    "trusted": true
   },
   "outputs": [],
   "source": [
    "breast_cancer_wisconsin_diagnostic_dataset_path = kagglehub.dataset_download('utkarshx27/breast-cancer-wisconsin-diagnostic-dataset')\n",
    "df_cancer = pd.read_csv(breast_cancer_wisconsin_diagnostic_dataset_path+'/brca.csv')"
   ]
  },
  {
   "cell_type": "code",
   "execution_count": 192,
   "metadata": {
    "execution": {
     "iopub.execute_input": "2025-03-04T11:25:50.050316Z",
     "iopub.status.busy": "2025-03-04T11:25:50.049994Z",
     "iopub.status.idle": "2025-03-04T11:25:50.075770Z",
     "shell.execute_reply": "2025-03-04T11:25:50.074784Z",
     "shell.execute_reply.started": "2025-03-04T11:25:50.050292Z"
    },
    "trusted": true
   },
   "outputs": [
    {
     "data": {
      "text/html": [
       "<div>\n",
       "<style scoped>\n",
       "    .dataframe tbody tr th:only-of-type {\n",
       "        vertical-align: middle;\n",
       "    }\n",
       "\n",
       "    .dataframe tbody tr th {\n",
       "        vertical-align: top;\n",
       "    }\n",
       "\n",
       "    .dataframe thead th {\n",
       "        text-align: right;\n",
       "    }\n",
       "</style>\n",
       "<table border=\"1\" class=\"dataframe\">\n",
       "  <thead>\n",
       "    <tr style=\"text-align: right;\">\n",
       "      <th></th>\n",
       "      <th>Unnamed: 0</th>\n",
       "      <th>x.radius_mean</th>\n",
       "      <th>x.texture_mean</th>\n",
       "      <th>x.perimeter_mean</th>\n",
       "      <th>x.area_mean</th>\n",
       "      <th>x.smoothness_mean</th>\n",
       "      <th>x.compactness_mean</th>\n",
       "      <th>x.concavity_mean</th>\n",
       "      <th>x.concave_pts_mean</th>\n",
       "      <th>x.symmetry_mean</th>\n",
       "      <th>...</th>\n",
       "      <th>x.texture_worst</th>\n",
       "      <th>x.perimeter_worst</th>\n",
       "      <th>x.area_worst</th>\n",
       "      <th>x.smoothness_worst</th>\n",
       "      <th>x.compactness_worst</th>\n",
       "      <th>x.concavity_worst</th>\n",
       "      <th>x.concave_pts_worst</th>\n",
       "      <th>x.symmetry_worst</th>\n",
       "      <th>x.fractal_dim_worst</th>\n",
       "      <th>y</th>\n",
       "    </tr>\n",
       "  </thead>\n",
       "  <tbody>\n",
       "    <tr>\n",
       "      <th>0</th>\n",
       "      <td>1</td>\n",
       "      <td>13.540</td>\n",
       "      <td>14.36</td>\n",
       "      <td>87.46</td>\n",
       "      <td>566.3</td>\n",
       "      <td>0.09779</td>\n",
       "      <td>0.08129</td>\n",
       "      <td>0.06664</td>\n",
       "      <td>0.047810</td>\n",
       "      <td>0.1885</td>\n",
       "      <td>...</td>\n",
       "      <td>19.26</td>\n",
       "      <td>99.70</td>\n",
       "      <td>711.2</td>\n",
       "      <td>0.14400</td>\n",
       "      <td>0.17730</td>\n",
       "      <td>0.23900</td>\n",
       "      <td>0.12880</td>\n",
       "      <td>0.2977</td>\n",
       "      <td>0.07259</td>\n",
       "      <td>B</td>\n",
       "    </tr>\n",
       "    <tr>\n",
       "      <th>1</th>\n",
       "      <td>2</td>\n",
       "      <td>13.080</td>\n",
       "      <td>15.71</td>\n",
       "      <td>85.63</td>\n",
       "      <td>520.0</td>\n",
       "      <td>0.10750</td>\n",
       "      <td>0.12700</td>\n",
       "      <td>0.04568</td>\n",
       "      <td>0.031100</td>\n",
       "      <td>0.1967</td>\n",
       "      <td>...</td>\n",
       "      <td>20.49</td>\n",
       "      <td>96.09</td>\n",
       "      <td>630.5</td>\n",
       "      <td>0.13120</td>\n",
       "      <td>0.27760</td>\n",
       "      <td>0.18900</td>\n",
       "      <td>0.07283</td>\n",
       "      <td>0.3184</td>\n",
       "      <td>0.08183</td>\n",
       "      <td>B</td>\n",
       "    </tr>\n",
       "    <tr>\n",
       "      <th>2</th>\n",
       "      <td>3</td>\n",
       "      <td>9.504</td>\n",
       "      <td>12.44</td>\n",
       "      <td>60.34</td>\n",
       "      <td>273.9</td>\n",
       "      <td>0.10240</td>\n",
       "      <td>0.06492</td>\n",
       "      <td>0.02956</td>\n",
       "      <td>0.020760</td>\n",
       "      <td>0.1815</td>\n",
       "      <td>...</td>\n",
       "      <td>15.66</td>\n",
       "      <td>65.13</td>\n",
       "      <td>314.9</td>\n",
       "      <td>0.13240</td>\n",
       "      <td>0.11480</td>\n",
       "      <td>0.08867</td>\n",
       "      <td>0.06227</td>\n",
       "      <td>0.2450</td>\n",
       "      <td>0.07773</td>\n",
       "      <td>B</td>\n",
       "    </tr>\n",
       "    <tr>\n",
       "      <th>3</th>\n",
       "      <td>4</td>\n",
       "      <td>13.030</td>\n",
       "      <td>18.42</td>\n",
       "      <td>82.61</td>\n",
       "      <td>523.8</td>\n",
       "      <td>0.08983</td>\n",
       "      <td>0.03766</td>\n",
       "      <td>0.02562</td>\n",
       "      <td>0.029230</td>\n",
       "      <td>0.1467</td>\n",
       "      <td>...</td>\n",
       "      <td>22.81</td>\n",
       "      <td>84.46</td>\n",
       "      <td>545.9</td>\n",
       "      <td>0.09701</td>\n",
       "      <td>0.04619</td>\n",
       "      <td>0.04833</td>\n",
       "      <td>0.05013</td>\n",
       "      <td>0.1987</td>\n",
       "      <td>0.06169</td>\n",
       "      <td>B</td>\n",
       "    </tr>\n",
       "    <tr>\n",
       "      <th>4</th>\n",
       "      <td>5</td>\n",
       "      <td>8.196</td>\n",
       "      <td>16.84</td>\n",
       "      <td>51.71</td>\n",
       "      <td>201.9</td>\n",
       "      <td>0.08600</td>\n",
       "      <td>0.05943</td>\n",
       "      <td>0.01588</td>\n",
       "      <td>0.005917</td>\n",
       "      <td>0.1769</td>\n",
       "      <td>...</td>\n",
       "      <td>21.96</td>\n",
       "      <td>57.26</td>\n",
       "      <td>242.2</td>\n",
       "      <td>0.12970</td>\n",
       "      <td>0.13570</td>\n",
       "      <td>0.06880</td>\n",
       "      <td>0.02564</td>\n",
       "      <td>0.3105</td>\n",
       "      <td>0.07409</td>\n",
       "      <td>B</td>\n",
       "    </tr>\n",
       "  </tbody>\n",
       "</table>\n",
       "<p>5 rows × 32 columns</p>\n",
       "</div>"
      ],
      "text/plain": [
       "   Unnamed: 0  x.radius_mean  x.texture_mean  x.perimeter_mean  x.area_mean  \\\n",
       "0           1         13.540           14.36             87.46        566.3   \n",
       "1           2         13.080           15.71             85.63        520.0   \n",
       "2           3          9.504           12.44             60.34        273.9   \n",
       "3           4         13.030           18.42             82.61        523.8   \n",
       "4           5          8.196           16.84             51.71        201.9   \n",
       "\n",
       "   x.smoothness_mean  x.compactness_mean  x.concavity_mean  \\\n",
       "0            0.09779             0.08129           0.06664   \n",
       "1            0.10750             0.12700           0.04568   \n",
       "2            0.10240             0.06492           0.02956   \n",
       "3            0.08983             0.03766           0.02562   \n",
       "4            0.08600             0.05943           0.01588   \n",
       "\n",
       "   x.concave_pts_mean  x.symmetry_mean  ...  x.texture_worst  \\\n",
       "0            0.047810           0.1885  ...            19.26   \n",
       "1            0.031100           0.1967  ...            20.49   \n",
       "2            0.020760           0.1815  ...            15.66   \n",
       "3            0.029230           0.1467  ...            22.81   \n",
       "4            0.005917           0.1769  ...            21.96   \n",
       "\n",
       "   x.perimeter_worst  x.area_worst  x.smoothness_worst  x.compactness_worst  \\\n",
       "0              99.70         711.2             0.14400              0.17730   \n",
       "1              96.09         630.5             0.13120              0.27760   \n",
       "2              65.13         314.9             0.13240              0.11480   \n",
       "3              84.46         545.9             0.09701              0.04619   \n",
       "4              57.26         242.2             0.12970              0.13570   \n",
       "\n",
       "   x.concavity_worst  x.concave_pts_worst  x.symmetry_worst  \\\n",
       "0            0.23900              0.12880            0.2977   \n",
       "1            0.18900              0.07283            0.3184   \n",
       "2            0.08867              0.06227            0.2450   \n",
       "3            0.04833              0.05013            0.1987   \n",
       "4            0.06880              0.02564            0.3105   \n",
       "\n",
       "   x.fractal_dim_worst  y  \n",
       "0              0.07259  B  \n",
       "1              0.08183  B  \n",
       "2              0.07773  B  \n",
       "3              0.06169  B  \n",
       "4              0.07409  B  \n",
       "\n",
       "[5 rows x 32 columns]"
      ]
     },
     "execution_count": 192,
     "metadata": {},
     "output_type": "execute_result"
    }
   ],
   "source": [
    "df_cancer.head()"
   ]
  },
  {
   "cell_type": "code",
   "execution_count": 193,
   "metadata": {
    "execution": {
     "iopub.execute_input": "2025-03-04T11:25:50.077113Z",
     "iopub.status.busy": "2025-03-04T11:25:50.076811Z",
     "iopub.status.idle": "2025-03-04T11:25:50.091236Z",
     "shell.execute_reply": "2025-03-04T11:25:50.090144Z",
     "shell.execute_reply.started": "2025-03-04T11:25:50.077092Z"
    },
    "trusted": true
   },
   "outputs": [],
   "source": [
    "df_cancer['y'] = df_cancer['y'].map({'M': 0, 'B': 1})\n",
    "\n",
    "X_cancer = df_cancer.drop(columns=['y'])\n",
    "y_cancer = df_cancer['y']\n",
    "\n",
    "\n",
    "X_train_cancer, X_test_cancer, y_train_cancer, y_test_cancer = train_test_split(X_cancer, y_cancer, test_size=0.2, random_state=6)"
   ]
  },
  {
   "cell_type": "code",
   "execution_count": 194,
   "metadata": {
    "execution": {
     "iopub.execute_input": "2025-03-04T11:25:50.092864Z",
     "iopub.status.busy": "2025-03-04T11:25:50.092529Z",
     "iopub.status.idle": "2025-03-04T11:25:50.102187Z",
     "shell.execute_reply": "2025-03-04T11:25:50.101201Z",
     "shell.execute_reply.started": "2025-03-04T11:25:50.092832Z"
    },
    "trusted": true
   },
   "outputs": [],
   "source": [
    "svm_cancer= SVC(random_state=RANDOM_STATE)"
   ]
  },
  {
   "cell_type": "code",
   "execution_count": 195,
   "metadata": {
    "execution": {
     "iopub.execute_input": "2025-03-04T11:25:50.103331Z",
     "iopub.status.busy": "2025-03-04T11:25:50.103103Z",
     "iopub.status.idle": "2025-03-04T11:25:50.138895Z",
     "shell.execute_reply": "2025-03-04T11:25:50.137255Z",
     "shell.execute_reply.started": "2025-03-04T11:25:50.103299Z"
    },
    "trusted": true
   },
   "outputs": [
    {
     "name": "stdout",
     "output_type": "stream",
     "text": [
      "Accuracy: 0.9561\n",
      "Precision: 0.9420\n",
      "Recall: 0.9848\n",
      "F1-Score: 0.9630\n",
      "logloss: 0.2311\n",
      "MCC: 0.9106\n"
     ]
    }
   ],
   "source": [
    "evaluar_modelo(svm_cancer, X_train_cancer, X_test_cancer, y_train_cancer, y_test_cancer)"
   ]
  },
  {
   "cell_type": "code",
   "execution_count": 196,
   "metadata": {
    "execution": {
     "iopub.execute_input": "2025-03-04T11:25:50.140249Z",
     "iopub.status.busy": "2025-03-04T11:25:50.139942Z",
     "iopub.status.idle": "2025-03-04T11:25:50.188855Z",
     "shell.execute_reply": "2025-03-04T11:25:50.188232Z",
     "shell.execute_reply.started": "2025-03-04T11:25:50.140221Z"
    },
    "trusted": true
   },
   "outputs": [
    {
     "name": "stdout",
     "output_type": "stream",
     "text": [
      "\n",
      "SVM con C = 0.1\n",
      "Accuracy: 0.9123\n",
      "Precision: 0.8784\n",
      "Recall: 0.9848\n",
      "F1-Score: 0.9286\n",
      "logloss: 0.3586\n",
      "MCC: 0.8249\n",
      "\n",
      "SVM con C = 10\n",
      "Accuracy: 0.9825\n",
      "Precision: 0.9848\n",
      "Recall: 0.9848\n",
      "F1-Score: 0.9848\n",
      "logloss: 0.1354\n",
      "MCC: 0.9640\n"
     ]
    }
   ],
   "source": [
    "hiperparametros(svm_cancer,'C',[0.1, 10], X_train_cancer, X_test_cancer, y_train_cancer, y_test_cancer)"
   ]
  },
  {
   "cell_type": "code",
   "execution_count": 197,
   "metadata": {
    "execution": {
     "iopub.execute_input": "2025-03-04T11:25:50.189696Z",
     "iopub.status.busy": "2025-03-04T11:25:50.189516Z",
     "iopub.status.idle": "2025-03-04T11:25:50.223001Z",
     "shell.execute_reply": "2025-03-04T11:25:50.222431Z",
     "shell.execute_reply.started": "2025-03-04T11:25:50.189680Z"
    },
    "trusted": true
   },
   "outputs": [
    {
     "name": "stdout",
     "output_type": "stream",
     "text": [
      "\n",
      "SVM con kernel = linear\n",
      "Accuracy: 1.0000\n",
      "Precision: 1.0000\n",
      "Recall: 1.0000\n",
      "F1-Score: 1.0000\n",
      "logloss: 0.0168\n",
      "MCC: 1.0000\n",
      "\n",
      "SVM con kernel = poly\n",
      "Accuracy: 0.9474\n",
      "Precision: 0.9286\n",
      "Recall: 0.9848\n",
      "F1-Score: 0.9559\n",
      "logloss: 0.2153\n",
      "MCC: 0.8932\n"
     ]
    }
   ],
   "source": [
    "hiperparametros(svm_cancer,'kernel',['linear', 'poly'], X_train_cancer, X_test_cancer, y_train_cancer, y_test_cancer)"
   ]
  },
  {
   "cell_type": "code",
   "execution_count": 198,
   "metadata": {
    "execution": {
     "iopub.execute_input": "2025-03-04T11:25:50.223964Z",
     "iopub.status.busy": "2025-03-04T11:25:50.223706Z",
     "iopub.status.idle": "2025-03-04T11:25:50.261097Z",
     "shell.execute_reply": "2025-03-04T11:25:50.260569Z",
     "shell.execute_reply.started": "2025-03-04T11:25:50.223934Z"
    },
    "trusted": true
   },
   "outputs": [
    {
     "name": "stdout",
     "output_type": "stream",
     "text": [
      "\n",
      "SVM con tol = 0.1\n",
      "Accuracy: 0.9561\n",
      "Precision: 0.9420\n",
      "Recall: 0.9848\n",
      "F1-Score: 0.9630\n",
      "logloss: 0.2348\n",
      "MCC: 0.9106\n",
      "\n",
      "SVM con tol = 1e-05\n",
      "Accuracy: 0.9561\n",
      "Precision: 0.9420\n",
      "Recall: 0.9848\n",
      "F1-Score: 0.9630\n",
      "logloss: 0.2311\n",
      "MCC: 0.9106\n"
     ]
    }
   ],
   "source": [
    "hiperparametros(svm_cancer,'tol',[1e-1, 1e-5], X_train_cancer, X_test_cancer, y_train_cancer, y_test_cancer)"
   ]
  },
  {
   "cell_type": "markdown",
   "metadata": {},
   "source": [
    "### Phishing"
   ]
  },
  {
   "cell_type": "code",
   "execution_count": 199,
   "metadata": {
    "execution": {
     "iopub.execute_input": "2025-03-04T11:25:50.263941Z",
     "iopub.status.busy": "2025-03-04T11:25:50.263744Z",
     "iopub.status.idle": "2025-03-04T11:25:50.290084Z",
     "shell.execute_reply": "2025-03-04T11:25:50.289522Z",
     "shell.execute_reply.started": "2025-03-04T11:25:50.263925Z"
    },
    "trusted": true
   },
   "outputs": [],
   "source": [
    "phishing_website_detector_path = kagglehub.dataset_download('eswarchandt/phishing-website-detector')\n",
    "df_phishing = pd.read_csv(phishing_website_detector_path+'/phishing.csv')"
   ]
  },
  {
   "cell_type": "code",
   "execution_count": 200,
   "metadata": {
    "execution": {
     "iopub.execute_input": "2025-03-04T11:25:50.291583Z",
     "iopub.status.busy": "2025-03-04T11:25:50.291283Z",
     "iopub.status.idle": "2025-03-04T11:25:50.298330Z",
     "shell.execute_reply": "2025-03-04T11:25:50.297705Z",
     "shell.execute_reply.started": "2025-03-04T11:25:50.291562Z"
    },
    "trusted": true
   },
   "outputs": [],
   "source": [
    "X_phishing = df_phishing.drop(columns=['class']) \n",
    "y_phishing = df_phishing['class']\n",
    "X_train_phishing, X_test_phishing, y_train_phishing, y_test_phishing = train_test_split(X_phishing, y_phishing, test_size=0.2, random_state=6)"
   ]
  },
  {
   "cell_type": "code",
   "execution_count": 201,
   "metadata": {
    "execution": {
     "iopub.execute_input": "2025-03-04T11:25:50.299352Z",
     "iopub.status.busy": "2025-03-04T11:25:50.299101Z",
     "iopub.status.idle": "2025-03-04T11:25:50.324698Z",
     "shell.execute_reply": "2025-03-04T11:25:50.324022Z",
     "shell.execute_reply.started": "2025-03-04T11:25:50.299333Z"
    },
    "trusted": true
   },
   "outputs": [],
   "source": [
    "svm_phising= SVC(random_state=RANDOM_STATE)"
   ]
  },
  {
   "cell_type": "code",
   "execution_count": 202,
   "metadata": {
    "execution": {
     "iopub.execute_input": "2025-03-04T11:25:50.325714Z",
     "iopub.status.busy": "2025-03-04T11:25:50.325524Z",
     "iopub.status.idle": "2025-03-04T11:25:57.641359Z",
     "shell.execute_reply": "2025-03-04T11:25:57.640470Z",
     "shell.execute_reply.started": "2025-03-04T11:25:50.325698Z"
    },
    "trusted": true
   },
   "outputs": [
    {
     "name": "stdout",
     "output_type": "stream",
     "text": [
      "Accuracy: 0.5577\n",
      "Precision: 0.5577\n",
      "Recall: 1.0000\n",
      "F1-Score: 0.7160\n",
      "logloss: 0.7554\n",
      "MCC: 0.0000\n"
     ]
    }
   ],
   "source": [
    "evaluar_modelo(svm_phising, X_train_phishing, X_test_phishing, y_train_phishing, y_test_phishing)"
   ]
  },
  {
   "cell_type": "code",
   "execution_count": 203,
   "metadata": {
    "execution": {
     "iopub.execute_input": "2025-03-04T11:25:57.642770Z",
     "iopub.status.busy": "2025-03-04T11:25:57.642426Z",
     "iopub.status.idle": "2025-03-04T11:26:12.458173Z",
     "shell.execute_reply": "2025-03-04T11:26:12.457461Z",
     "shell.execute_reply.started": "2025-03-04T11:25:57.642737Z"
    },
    "trusted": true
   },
   "outputs": [
    {
     "name": "stdout",
     "output_type": "stream",
     "text": [
      "\n",
      "SVM con C = 0.1\n",
      "Accuracy: 0.5577\n",
      "Precision: 0.5577\n",
      "Recall: 1.0000\n",
      "F1-Score: 0.7160\n",
      "logloss: 0.7556\n",
      "MCC: 0.0000\n",
      "\n",
      "SVM con C = 10\n",
      "Accuracy: 0.5577\n",
      "Precision: 0.5577\n",
      "Recall: 1.0000\n",
      "F1-Score: 0.7160\n",
      "logloss: 0.7535\n",
      "MCC: 0.0000\n"
     ]
    }
   ],
   "source": [
    "hiperparametros(svm_phising,'C',[0.1, 10], X_train_phishing, X_test_phishing, y_train_phishing, y_test_phishing)"
   ]
  },
  {
   "cell_type": "code",
   "execution_count": 204,
   "metadata": {
    "execution": {
     "iopub.execute_input": "2025-03-04T11:26:12.459226Z",
     "iopub.status.busy": "2025-03-04T11:26:12.458931Z"
    },
    "trusted": true
   },
   "outputs": [],
   "source": [
    "#hiperparametros(svm_phising,'kernel',['linear', 'poly'], X_train_phishing, X_test_phishing, y_train_phishing, y_test_phishing)"
   ]
  },
  {
   "cell_type": "code",
   "execution_count": 205,
   "metadata": {
    "trusted": true
   },
   "outputs": [
    {
     "name": "stdout",
     "output_type": "stream",
     "text": [
      "\n",
      "SVM con tol = 0.1\n",
      "Accuracy: 0.5577\n",
      "Precision: 0.5577\n",
      "Recall: 1.0000\n",
      "F1-Score: 0.7160\n",
      "logloss: 0.7558\n",
      "MCC: 0.0000\n",
      "\n",
      "SVM con tol = 1e-05\n",
      "Accuracy: 0.5577\n",
      "Precision: 0.5577\n",
      "Recall: 1.0000\n",
      "F1-Score: 0.7160\n",
      "logloss: 0.7554\n",
      "MCC: 0.0000\n"
     ]
    }
   ],
   "source": [
    "hiperparametros(svm_phising,'tol',[1e-1, 1e-5], X_train_phishing, X_test_phishing, y_train_phishing, y_test_phishing)"
   ]
  },
  {
   "cell_type": "code",
   "execution_count": 206,
   "metadata": {
    "trusted": true
   },
   "outputs": [],
   "source": [
    "breast_cancer_wisconsin_diagnostic_dataset_path = kagglehub.dataset_download('utkarshx27/breast-cancer-wisconsin-diagnostic-dataset')\n",
    "wine_quality_dataset_path = kagglehub.dataset_download('yasserh/wine-quality-dataset')\n",
    "accidentes_de_trfico_de_madrid_espaa_2019_a_2023_path = kagglehub.dataset_download('jairoordezpacheco/accidentes-de-trfico-de-madrid-espaa-2019-a-2023')\n",
    "phishing_website_detector_path = kagglehub.dataset_download('eswarchandt/phishing-website-detector')\n",
    "\n",
    "brca = pd.read_csv(breast_cancer_wisconsin_diagnostic_dataset_path+'/brca.csv')\n",
    "wine = pd.read_csv(wine_quality_dataset_path+'/WineQT.csv')\n",
    "phishing= pd.read_csv(phishing_website_detector_path+'/phishing.csv')\n",
    "accidents = pd.read_csv(accidentes_de_trfico_de_madrid_espaa_2019_a_2023_path+'/datos_madrid.csv',encoding='MacRoman')"
   ]
  },
  {
   "cell_type": "code",
   "execution_count": 207,
   "metadata": {
    "trusted": true
   },
   "outputs": [],
   "source": [
    "def preprocess_brca(df):\n",
    "    X = df.drop(columns=['y'])\n",
    "    y = df['y'].apply(lambda x: 1 if x == 'M' else 0)\n",
    "    return X, y"
   ]
  },
  {
   "cell_type": "code",
   "execution_count": 208,
   "metadata": {
    "trusted": true
   },
   "outputs": [],
   "source": [
    "def preprocess_wine(df):\n",
    "    df['quality'] = df['quality'].apply(lambda x: 1 if x > 5 else 0)\n",
    "    X = df.drop(columns=['quality', 'Id'])\n",
    "    y = df['quality']\n",
    "    return X, y"
   ]
  },
  {
   "cell_type": "code",
   "execution_count": 209,
   "metadata": {},
   "outputs": [],
   "source": [
    "def preprocess_phishing(df):\n",
    "    X = df.drop(columns=['class'])\n",
    "    y = df['class']\n",
    "    return X, y"
   ]
  },
  {
   "cell_type": "code",
   "execution_count": 210,
   "metadata": {
    "trusted": true
   },
   "outputs": [],
   "source": [
    "def preprocess_accidents(df):\n",
    "    df = df.drop(columns=['num_expediente', 'fecha', 'hora', 'localizacion', 'numero', 'coordenada_x_utm', 'coordenada_y_utm'])\n",
    "    df = df.dropna()\n",
    "    le = LabelEncoder()\n",
    "    for col in df.columns:\n",
    "        if df[col].dtype == 'object':\n",
    "            df[col] = le.fit_transform(df[col])\n",
    "    X = df.drop(columns=['lesividad'])\n",
    "    y = df['lesividad'].apply(lambda x: 1 if x > 0 else 0)\n",
    "    return X, y"
   ]
  },
  {
   "cell_type": "code",
   "execution_count": 211,
   "metadata": {
    "trusted": true
   },
   "outputs": [],
   "source": [
    "X_brca, y_brca = preprocess_brca(brca)\n",
    "X_wine, y_wine = preprocess_wine(wine)\n",
    "X_phishing, y_phishing = preprocess_phishing(phishing)\n",
    "X_accidents, y_accidents = preprocess_accidents(accidents)"
   ]
  },
  {
   "cell_type": "code",
   "execution_count": 212,
   "metadata": {
    "trusted": true
   },
   "outputs": [],
   "source": [
    "X_train_brca, X_test_brca, y_train_brca, y_test_brca = train_test_split(X_brca, y_brca, test_size=0.2, random_state=6)\n",
    "X_train_wine, X_test_wine, y_train_wine, y_test_wine = train_test_split(X_wine, y_wine, test_size=0.2, random_state=6)\n",
    "X_train_accidents, X_test_accidents, y_train_accidents, y_test_accidents = train_test_split(X_accidents, y_accidents, test_size=0.2, random_state=6)"
   ]
  },
  {
   "cell_type": "code",
   "execution_count": 213,
   "metadata": {},
   "outputs": [],
   "source": [
    "def evaluate_model(model, X_train, X_test, y_train, y_test):\n",
    "    model.fit(X_train, y_train)\n",
    "    y_pred = model.predict(X_test)\n",
    "    accuracy = accuracy_score(y_test, y_pred)\n",
    "    precision = precision_score(y_test, y_pred)\n",
    "    recall = recall_score(y_test, y_pred)\n",
    "    f1 = f1_score(y_test, y_pred)\n",
    "    roc_auc = roc_auc_score(y_test, y_pred)\n",
    "    cm = confusion_matrix(y_test, y_pred)\n",
    "    return accuracy, precision, recall, f1, roc_auc, cm"
   ]
  },
  {
   "cell_type": "code",
   "execution_count": 214,
   "metadata": {
    "trusted": true
   },
   "outputs": [],
   "source": [
    "svm = SVC(random_state=RANDOM_STATE)\n",
    "log_reg = LogisticRegression(max_iter=1000,random_state=RANDOM_STATE)\n",
    "decision_tree = DecisionTreeClassifier(random_state=RANDOM_STATE)\n",
    "random_forest = RandomForestClassifier(random_state=RANDOM_STATE)\n",
    "knn = KNeighborsClassifier()"
   ]
  },
  {
   "cell_type": "code",
   "execution_count": 215,
   "metadata": {
    "trusted": true
   },
   "outputs": [],
   "source": [
    "datasets = {\n",
    "    'BRCA': (X_train_brca, X_test_brca, y_train_brca, y_test_brca),\n",
    "    'Wine': (X_train_wine, X_test_wine, y_train_wine, y_test_wine),\n",
    "    'Accidents': (X_train_accidents, X_test_accidents, y_train_accidents, y_test_accidents)\n",
    "}"
   ]
  },
  {
   "cell_type": "code",
   "execution_count": 216,
   "metadata": {
    "trusted": true
   },
   "outputs": [],
   "source": [
    "models = {\n",
    "    'SVM': svm,\n",
    "    'Logistic Regression': log_reg,\n",
    "    'Decision Tree': decision_tree,\n",
    "    'Random Forest': random_forest,\n",
    "    'kNN': knn\n",
    "}"
   ]
  },
  {
   "cell_type": "code",
   "execution_count": 217,
   "metadata": {
    "trusted": true
   },
   "outputs": [],
   "source": [
    "results = {}\n",
    "\n",
    "for dataset_name, (X_train, X_test, y_train, y_test) in datasets.items():\n",
    "    results[dataset_name] = {}\n",
    "    for model_name, model in models.items():\n",
    "        accuracy, precision, recall, f1, roc_auc, cm = evaluate_model(model, X_train, X_test, y_train, y_test)\n",
    "        results[dataset_name][model_name] = {\n",
    "            'Accuracy': accuracy,\n",
    "            'Precision': precision,\n",
    "            'Recall': recall,\n",
    "            'F1 Score': f1,\n",
    "            'ROC AUC': roc_auc,\n",
    "            'Confusion Matrix': cm\n",
    "        }"
   ]
  },
  {
   "cell_type": "code",
   "execution_count": 218,
   "metadata": {
    "trusted": true
   },
   "outputs": [
    {
     "name": "stdout",
     "output_type": "stream",
     "text": [
      "Results for BRCA dataset:\n",
      "  SVM:\n",
      "    Accuracy: 0.956140350877193\n",
      "    Precision: 0.9777777777777777\n",
      "    Recall: 0.9166666666666666\n",
      "    F1 Score: 0.946236559139785\n",
      "    ROC AUC: 0.9507575757575757\n",
      "    Confusion Matrix: [[65  1]\n",
      " [ 4 44]]\n",
      "\n",
      "  Logistic Regression:\n",
      "    Accuracy: 1.0\n",
      "    Precision: 1.0\n",
      "    Recall: 1.0\n",
      "    F1 Score: 1.0\n",
      "    ROC AUC: 1.0\n",
      "    Confusion Matrix: [[66  0]\n",
      " [ 0 48]]\n",
      "\n",
      "  Decision Tree:\n",
      "    Accuracy: 1.0\n",
      "    Precision: 1.0\n",
      "    Recall: 1.0\n",
      "    F1 Score: 1.0\n",
      "    ROC AUC: 1.0\n",
      "    Confusion Matrix: [[66  0]\n",
      " [ 0 48]]\n",
      "\n",
      "  Random Forest:\n",
      "    Accuracy: 1.0\n",
      "    Precision: 1.0\n",
      "    Recall: 1.0\n",
      "    F1 Score: 1.0\n",
      "    ROC AUC: 1.0\n",
      "    Confusion Matrix: [[66  0]\n",
      " [ 0 48]]\n",
      "\n",
      "  kNN:\n",
      "    Accuracy: 0.9824561403508771\n",
      "    Precision: 0.9791666666666666\n",
      "    Recall: 0.9791666666666666\n",
      "    F1 Score: 0.9791666666666666\n",
      "    ROC AUC: 0.9820075757575757\n",
      "    Confusion Matrix: [[65  1]\n",
      " [ 1 47]]\n",
      "\n",
      "Results for Wine dataset:\n",
      "  SVM:\n",
      "    Accuracy: 0.6419213973799127\n",
      "    Precision: 0.5941176470588235\n",
      "    Recall: 0.8859649122807017\n",
      "    F1 Score: 0.7112676056338029\n",
      "    ROC AUC: 0.6429824561403509\n",
      "    Confusion Matrix: [[ 46  69]\n",
      " [ 13 101]]\n",
      "\n",
      "  Logistic Regression:\n",
      "    Accuracy: 0.7554585152838428\n",
      "    Precision: 0.7685185185185185\n",
      "    Recall: 0.7280701754385965\n",
      "    F1 Score: 0.7477477477477478\n",
      "    ROC AUC: 0.7553394355453853\n",
      "    Confusion Matrix: [[90 25]\n",
      " [31 83]]\n",
      "\n",
      "  Decision Tree:\n",
      "    Accuracy: 0.7467248908296943\n",
      "    Precision: 0.7857142857142857\n",
      "    Recall: 0.6754385964912281\n",
      "    F1 Score: 0.7264150943396226\n",
      "    ROC AUC: 0.7464149504195271\n",
      "    Confusion Matrix: [[94 21]\n",
      " [37 77]]\n",
      "\n",
      "  Random Forest:\n",
      "    Accuracy: 0.7947598253275109\n",
      "    Precision: 0.8018018018018018\n",
      "    Recall: 0.7807017543859649\n",
      "    F1 Score: 0.7911111111111111\n",
      "    ROC AUC: 0.794698703279939\n",
      "    Confusion Matrix: [[93 22]\n",
      " [25 89]]\n",
      "\n",
      "  kNN:\n",
      "    Accuracy: 0.6200873362445415\n",
      "    Precision: 0.608\n",
      "    Recall: 0.6666666666666666\n",
      "    F1 Score: 0.6359832635983264\n",
      "    ROC AUC: 0.6202898550724637\n",
      "    Confusion Matrix: [[66 49]\n",
      " [38 76]]\n",
      "\n",
      "Results for Accidents dataset:\n",
      "  SVM:\n",
      "    Accuracy: 0.9878809885845267\n",
      "    Precision: 0.9878809885845267\n",
      "    Recall: 1.0\n",
      "    F1 Score: 0.9939035528358754\n",
      "    ROC AUC: 0.5\n",
      "    Confusion Matrix: [[    0   534]\n",
      " [    0 43529]]\n",
      "\n",
      "  Logistic Regression:\n",
      "    Accuracy: 0.9878809885845267\n",
      "    Precision: 0.9878809885845267\n",
      "    Recall: 1.0\n",
      "    F1 Score: 0.9939035528358754\n",
      "    ROC AUC: 0.5\n",
      "    Confusion Matrix: [[    0   534]\n",
      " [    0 43529]]\n",
      "\n",
      "  Decision Tree:\n",
      "    Accuracy: 1.0\n",
      "    Precision: 1.0\n",
      "    Recall: 1.0\n",
      "    F1 Score: 1.0\n",
      "    ROC AUC: 1.0\n",
      "    Confusion Matrix: [[  534     0]\n",
      " [    0 43529]]\n",
      "\n",
      "  Random Forest:\n",
      "    Accuracy: 1.0\n",
      "    Precision: 1.0\n",
      "    Recall: 1.0\n",
      "    F1 Score: 1.0\n",
      "    ROC AUC: 1.0\n",
      "    Confusion Matrix: [[  534     0]\n",
      " [    0 43529]]\n",
      "\n",
      "  kNN:\n",
      "    Accuracy: 0.9913759843859928\n",
      "    Precision: 0.9916592602720995\n",
      "    Recall: 0.9996783753359829\n",
      "    F1 Score: 0.9956526713190711\n",
      "    ROC AUC: 0.6571425584545083\n",
      "    Confusion Matrix: [[  168   366]\n",
      " [   14 43515]]\n",
      "\n"
     ]
    }
   ],
   "source": [
    "for dataset_name, dataset_results in results.items():\n",
    "    print(f\"Results for {dataset_name} dataset:\")\n",
    "    for model_name, metrics in dataset_results.items():\n",
    "        print(f\"  {model_name}:\")\n",
    "        for metric_name, value in metrics.items():\n",
    "            print(f\"    {metric_name}: {value}\")\n",
    "        print()"
   ]
  },
  {
   "cell_type": "code",
   "execution_count": null,
   "metadata": {},
   "outputs": [],
   "source": [
    "import pandas as pd\n",
    "import numpy as np\n",
    "from sklearn.model_selection import train_test_split, GridSearchCV\n",
    "from sklearn.preprocessing import StandardScaler, LabelEncoder\n",
    "from sklearn.metrics import accuracy_score, precision_score, recall_score, f1_score, roc_auc_score, confusion_matrix\n",
    "from sklearn.svm import SVC\n",
    "from sklearn.linear_model import LogisticRegression\n",
    "from sklearn.tree import DecisionTreeClassifier\n",
    "from sklearn.ensemble import RandomForestClassifier\n",
    "from sklearn.neighbors import KNeighborsClassifier\n",
    "\n",
    "# Establecer la semilla aleatoria\n",
    "RANDOM_STATE = 42\n",
    "\n",
    "# Cargar los datasets\n",
    "brca = pd.read_csv('brca.csv')\n",
    "wine = pd.read_csv('WineQT.csv')\n",
    "accidents = pd.read_csv('datos_madrid.csv')\n",
    "phishing = pd.read_excel('phishing.xls')\n",
    "\n",
    "# Preprocesamiento de los datasets\n",
    "def preprocess_brca(df):\n",
    "    X = df.drop(columns=['y'])\n",
    "    y = df['y'].apply(lambda x: 1 if x == 'M' else 0)\n",
    "    return X, y\n",
    "\n",
    "def preprocess_wine(df):\n",
    "    df['quality'] = df['quality'].apply(lambda x: 1 if x > 5 else 0)\n",
    "    X = df.drop(columns=['quality', 'Id'])\n",
    "    y = df['quality']\n",
    "    return X, y\n",
    "\n",
    "def preprocess_accidents(df):\n",
    "    df = df.drop(columns=['num_expediente', 'fecha', 'hora', 'localizacion', 'numero', 'coordenada_x_utm', 'coordenada_y_utm'])\n",
    "    df = df.dropna()\n",
    "    le = LabelEncoder()\n",
    "    for col in df.columns:\n",
    "        if df[col].dtype == 'object':\n",
    "            df[col] = le.fit_transform(df[col])\n",
    "    X = df.drop(columns=['lesividad'])\n",
    "    y = df['lesividad'].apply(lambda x: 1 if x > 0 else 0)\n",
    "    return X, y\n",
    "\n",
    "def preprocess_phishing(df):\n",
    "    X = df.drop(columns=['class'])\n",
    "    y = df['class']\n",
    "    return X, y\n",
    "\n",
    "X_brca, y_brca = preprocess_brca(brca)\n",
    "X_wine, y_wine = preprocess_wine(wine)\n",
    "X_accidents, y_accidents = preprocess_accidents(accidents)\n",
    "X_phishing, y_phishing = preprocess_phishing(phishing)\n",
    "\n",
    "# Dividir los datasets en conjuntos de entrenamiento y prueba\n",
    "X_train_brca, X_test_brca, y_train_brca, y_test_brca = train_test_split(X_brca, y_brca, test_size=0.2, random_state=RANDOM_STATE)\n",
    "X_train_wine, X_test_wine, y_train_wine, y_test_wine = train_test_split(X_wine, y_wine, test_size=0.2, random_state=RANDOM_STATE)\n",
    "X_train_accidents, X_test_accidents, y_train_accidents, y_test_accidents = train_test_split(X_accidents, y_accidents, test_size=0.2, random_state=RANDOM_STATE)\n",
    "X_train_phishing, X_test_phishing, y_train_phishing, y_test_phishing = train_test_split(X_phishing, y_phishing, test_size=0.2, random_state=RANDOM_STATE)\n",
    "\n",
    "# Escalar los datos\n",
    "scaler = StandardScaler()\n",
    "X_train_brca = scaler.fit_transform(X_train_brca)\n",
    "X_test_brca = scaler.transform(X_test_brca)\n",
    "X_train_wine = scaler.fit_transform(X_train_wine)\n",
    "X_test_wine = scaler.transform(X_test_wine)\n",
    "X_train_accidents = scaler.fit_transform(X_train_accidents)\n",
    "X_test_accidents = scaler.transform(X_test_accidents)\n",
    "X_train_phishing = scaler.fit_transform(X_train_phishing)\n",
    "X_test_phishing = scaler.transform(X_test_phishing)\n",
    "\n",
    "# Función para entrenar y evaluar modelos\n",
    "def evaluate_model(model, X_train, X_test, y_train, y_test):\n",
    "    model.fit(X_train, y_train)\n",
    "    y_pred = model.predict(X_test)\n",
    "    accuracy = accuracy_score(y_test, y_pred)\n",
    "    precision = precision_score(y_test, y_pred)\n",
    "    recall = recall_score(y_test, y_pred)\n",
    "    f1 = f1_score(y_test, y_pred)\n",
    "    roc_auc = roc_auc_score(y_test, y_pred)\n",
    "    cm = confusion_matrix(y_test, y_pred)\n",
    "    return accuracy, precision, recall, f1, roc_auc, cm\n",
    "\n",
    "# Inicializar los modelos\n",
    "svm = SVC(random_state=RANDOM_STATE)\n",
    "log_reg = LogisticRegression(max_iter=1000, random_state=RANDOM_STATE)  # Aumentar el número de iteraciones\n",
    "decision_tree = DecisionTreeClassifier(random_state=RANDOM_STATE)\n",
    "random_forest = RandomForestClassifier(random_state=RANDOM_STATE)\n",
    "knn = KNeighborsClassifier()\n",
    "\n",
    "# Evaluar los modelos en los datasets\n",
    "datasets = {\n",
    "    'BRCA': (X_train_brca, X_test_brca, y_train_brca, y_test_brca),\n",
    "    'Wine': (X_train_wine, X_test_wine, y_train_wine, y_test_wine),\n",
    "    'Accidents': (X_train_accidents, X_test_accidents, y_train_accidents, y_test_accidents),\n",
    "    'Phishing': (X_train_phishing, X_test_phishing, y_train_phishing, y_test_phishing)\n",
    "}\n",
    "\n",
    "models = {\n",
    "    'SVM': svm,\n",
    "    'Logistic Regression': log_reg,\n",
    "    'Decision Tree': decision_tree,\n",
    "    'Random Forest': random_forest,\n",
    "    'kNN': knn\n",
    "}\n",
    "\n",
    "results = {}\n",
    "\n",
    "for dataset_name, (X_train, X_test, y_train, y_test) in datasets.items():\n",
    "    results[dataset_name] = {}\n",
    "    for model_name, model in models.items():\n",
    "        accuracy, precision, recall, f1, roc_auc, cm = evaluate_model(model, X_train, X_test, y_train, y_test)\n",
    "        results[dataset_name][model_name] = {\n",
    "            'Accuracy': accuracy,\n",
    "            'Precision': precision,\n",
    "            'Recall': recall,\n",
    "            'F1 Score': f1,\n",
    "            'ROC AUC': roc_auc,\n",
    "            'Confusion Matrix': cm\n",
    "        }\n",
    "\n",
    "# Mostrar los resultados\n",
    "for dataset_name, dataset_results in results.items():\n",
    "    print(f\"Results for {dataset_name} dataset:\")\n",
    "    for model_name, metrics in dataset_results.items():\n",
    "        print(f\"  {model_name}:\")\n",
    "        for metric_name, value in metrics.items():\n",
    "            print(f\"    {metric_name}: {value}\")\n",
    "        print()\n",
    "\n",
    "# Ajuste de Hiperparámetros para Regresión Logística\n",
    "param_grid = {\n",
    "    'C': [0.1, 1, 10],\n",
    "    'solver': ['lbfgs', 'liblinear'],\n",
    "    'max_iter': [100, 200, 500]\n",
    "}\n",
    "\n",
    "best_params = {}\n",
    "\n",
    "for dataset_name, (X_train, X_test, y_train, y_test) in datasets.items():\n",
    "    grid_search = GridSearchCV(LogisticRegression(random_state=RANDOM_STATE), param_grid, cv=5, scoring='accuracy')\n",
    "    grid_search.fit(X_train, y_train)\n",
    "    best_params[dataset_name] = grid_search.best_params_\n",
    "    best_log_reg = grid_search.best_estimator_\n",
    "    accuracy, precision, recall, f1, roc_auc, cm = evaluate_model(best_log_reg, X_train, X_test, y_train, y_test)\n",
    "    results[dataset_name]['Logistic Regression (Best)'] = {\n",
    "        'Accuracy': accuracy,\n",
    "        'Precision': precision,\n",
    "        'Recall': recall,\n",
    "        'F1 Score': f1,\n",
    "        'ROC AUC': roc_auc,\n",
    "        'Confusion Matrix': cm\n",
    "    }\n",
    "\n",
    "# Mostrar los mejores hiperparámetros y resultados\n",
    "for dataset_name, params in best_params.items():\n",
    "    print(f\"Best hyperparameters for Logistic Regression on {dataset_name} dataset:\")\n",
    "    print(params)\n",
    "    print(f\"Results for Logistic Regression with best hyperparameters on {dataset_name} dataset:\")\n",
    "    for metric_name, value in results[dataset_name]['Logistic Regression (Best)'].items():\n",
    "        print(f\"  {metric_name}: {value}\")\n",
    "    print()\n",
    "\n",
    "# Crear datasets de ejemplo con 10 registros\n",
    "example_datasets = {\n",
    "    'BRCA': brca.sample(n=10, random_state=RANDOM_STATE),\n",
    "    'Wine': wine.sample(n=10, random_state=RANDOM_STATE),\n",
    "    'Accidents': accidents.sample(n=10, random_state=RANDOM_STATE),\n",
    "    'Phishing': phishing.sample(n=10, random_state=RANDOM_STATE)\n",
    "}\n",
    "\n",
    "for dataset_name, example_df in example_datasets.items():\n",
    "    if dataset_name == 'BRCA':\n",
    "        X_example, y_example = preprocess_brca(example_df)\n",
    "    elif dataset_name == 'Wine':\n",
    "        X_example, y_example = preprocess_wine(example_df)\n",
    "    elif dataset_name == 'Accidents':\n",
    "        X_example, y_example = preprocess_accidents(example_df)\n",
    "    elif dataset_name == 'Phishing':\n",
    "        X_example, y_example = preprocess_phishing(example_df)\n",
    "    \n",
    "    X_example = scaler.transform(X_example)\n",
    "    best_log_reg = LogisticRegression(**best_params[dataset_name], random_state=RANDOM_STATE)\n",
    "    best_log_reg.fit(X_train, y_train)\n",
    "    y_pred_example = best_log_reg.predict(X_example)\n",
    "    accuracy_example = accuracy_score(y_example, y_pred_example)\n",
    "    precision_example = precision_score(y_example, y_pred_example)\n",
    "    recall_example = recall_score(y_example, y_pred_example)\n",
    "    f1_example = f1_score(y_example, y_pred_example)\n",
    "    roc_auc_example = roc_auc_score(y_example, y_pred_example)\n",
    "    cm_example = confusion_matrix(y_example, y_pred_example)\n",
    "    \n",
    "    print(f\"Results for Logistic Regression with best hyperparameters on {dataset_name} example dataset:\")\n",
    "    print(f\"  Accuracy: {accuracy_example}\")\n",
    "    print(f\"  Precision: {precision_example}\")\n",
    "    print(f\"  Recall: {recall_example}\")\n",
    "    print(f\"  F1 Score: {f1_example}\")\n",
    "    print(f\"  ROC AUC: {roc_auc_example}\")\n",
    "    print(f\"  Confusion Matrix: {cm_example}\")\n",
    "    print()"
   ]
  }
 ],
 "metadata": {
  "kaggle": {
   "accelerator": "nvidiaTeslaT4",
   "dataSources": [
    {
     "datasetId": 532277,
     "sourceId": 975216,
     "sourceType": "datasetVersion"
    },
    {
     "datasetId": 1866301,
     "sourceId": 3047725,
     "sourceType": "datasetVersion"
    },
    {
     "datasetId": 3248517,
     "sourceId": 5651459,
     "sourceType": "datasetVersion"
    },
    {
     "datasetId": 4433814,
     "sourceId": 7613735,
     "sourceType": "datasetVersion"
    }
   ],
   "dockerImageVersionId": 30918,
   "isGpuEnabled": true,
   "isInternetEnabled": true,
   "language": "python",
   "sourceType": "notebook"
  },
  "kernelspec": {
   "display_name": "base",
   "language": "python",
   "name": "python3"
  },
  "language_info": {
   "codemirror_mode": {
    "name": "ipython",
    "version": 3
   },
   "file_extension": ".py",
   "mimetype": "text/x-python",
   "name": "python",
   "nbconvert_exporter": "python",
   "pygments_lexer": "ipython3",
   "version": "3.12.7"
  }
 },
 "nbformat": 4,
 "nbformat_minor": 4
}
